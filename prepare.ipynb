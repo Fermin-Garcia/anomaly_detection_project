{
 "cells": [
  {
   "cell_type": "code",
   "execution_count": 1,
   "id": "98ec6dca-5f84-460b-80ea-9ab0c9a5fe72",
   "metadata": {},
   "outputs": [],
   "source": [
    "import pandas as pd\n",
    "import numpy as np \n",
    "import matplotlib.pyplot as plt\n",
    "import seaborn as sns\n",
    "import acquire as a"
   ]
  },
  {
   "cell_type": "code",
   "execution_count": 2,
   "id": "e61e4b6a-d84f-4bfd-aa72-81b3d7ece1eb",
   "metadata": {},
   "outputs": [],
   "source": [
    "df = a.acquire_data()"
   ]
  },
  {
   "cell_type": "code",
   "execution_count": 3,
   "id": "7daa74e0-c30f-4f83-a6ce-08fc1c95892c",
   "metadata": {},
   "outputs": [
    {
     "data": {
      "text/plain": [
       "<Axes: xlabel='timestamp'>"
      ]
     },
     "execution_count": 3,
     "metadata": {},
     "output_type": "execute_result"
    },
    {
     "data": {
      "image/png": "[encoded data removed]",
      "text/plain": [
       "<Figure size 640x480 with 1 Axes>"
      ]
     },
     "metadata": {},
     "output_type": "display_data"
    }
   ],
   "source": [
    "df.plot()"
   ]
  },
  {
   "cell_type": "code",
   "execution_count": 4,
   "id": "6dad8d65-deb6-43ea-9f0f-4091f368ca16",
   "metadata": {},
   "outputs": [
    {
     "data": {
      "text/html": [
       "<div>\n",
       "<style scoped>\n",
       "    .dataframe tbody tr th:only-of-type {\n",
       "        vertical-align: middle;\n",
       "    }\n",
       "\n",
       "    .dataframe tbody tr th {\n",
       "        vertical-align: top;\n",
       "    }\n",
       "\n",
       "    .dataframe thead th {\n",
       "        text-align: right;\n",
       "    }\n",
       "</style>\n",
       "<table border=\"1\" class=\"dataframe\">\n",
       "  <thead>\n",
       "    <tr style=\"text-align: right;\">\n",
       "      <th></th>\n",
       "      <th>path</th>\n",
       "      <th>user_id</th>\n",
       "      <th>cohort_id</th>\n",
       "      <th>ip</th>\n",
       "    </tr>\n",
       "    <tr>\n",
       "      <th>timestamp</th>\n",
       "      <th></th>\n",
       "      <th></th>\n",
       "      <th></th>\n",
       "      <th></th>\n",
       "    </tr>\n",
       "  </thead>\n",
       "  <tbody>\n",
       "    <tr>\n",
       "      <th>2018-01-26 09:55:03</th>\n",
       "      <td>/</td>\n",
       "      <td>1</td>\n",
       "      <td>8.0</td>\n",
       "      <td>97.105.19.61</td>\n",
       "    </tr>\n",
       "    <tr>\n",
       "      <th>2018-01-26 09:56:02</th>\n",
       "      <td>java-ii</td>\n",
       "      <td>1</td>\n",
       "      <td>8.0</td>\n",
       "      <td>97.105.19.61</td>\n",
       "    </tr>\n",
       "    <tr>\n",
       "      <th>2018-01-26 09:56:05</th>\n",
       "      <td>java-ii/object-oriented-programming</td>\n",
       "      <td>1</td>\n",
       "      <td>8.0</td>\n",
       "      <td>97.105.19.61</td>\n",
       "    </tr>\n",
       "    <tr>\n",
       "      <th>2018-01-26 09:56:06</th>\n",
       "      <td>slides/object_oriented_programming</td>\n",
       "      <td>1</td>\n",
       "      <td>8.0</td>\n",
       "      <td>97.105.19.61</td>\n",
       "    </tr>\n",
       "    <tr>\n",
       "      <th>2018-01-26 09:56:24</th>\n",
       "      <td>javascript-i/conditionals</td>\n",
       "      <td>2</td>\n",
       "      <td>22.0</td>\n",
       "      <td>97.105.19.61</td>\n",
       "    </tr>\n",
       "  </tbody>\n",
       "</table>\n",
       "</div>"
      ],
      "text/plain": [
       "                                                    path  user_id  cohort_id   \n",
       "timestamp                                                                      \n",
       "2018-01-26 09:55:03                                    /        1        8.0  \\\n",
       "2018-01-26 09:56:02                              java-ii        1        8.0   \n",
       "2018-01-26 09:56:05  java-ii/object-oriented-programming        1        8.0   \n",
       "2018-01-26 09:56:06   slides/object_oriented_programming        1        8.0   \n",
       "2018-01-26 09:56:24            javascript-i/conditionals        2       22.0   \n",
       "\n",
       "                               ip  \n",
       "timestamp                          \n",
       "2018-01-26 09:55:03  97.105.19.61  \n",
       "2018-01-26 09:56:02  97.105.19.61  \n",
       "2018-01-26 09:56:05  97.105.19.61  \n",
       "2018-01-26 09:56:06  97.105.19.61  \n",
       "2018-01-26 09:56:24  97.105.19.61  "
      ]
     },
     "execution_count": 4,
     "metadata": {},
     "output_type": "execute_result"
    }
   ],
   "source": [
    "df.head()"
   ]
  },
  {
   "cell_type": "code",
   "execution_count": 5,
   "id": "75883186-9a38-4109-ae64-31ff1681386d",
   "metadata": {},
   "outputs": [],
   "source": [
    "df['day'] = df.index.day_name()"
   ]
  },
  {
   "cell_type": "code",
   "execution_count": null,
   "id": "0ed7b8cd-15e1-446a-af29-0e26f6e33c77",
   "metadata": {},
   "outputs": [],
   "source": [
    "df.head()"
   ]
  },
  {
   "cell_type": "code",
   "execution_count": null,
   "id": "0e062c38-4f2c-42ea-9b0b-b870a67a4f18",
   "metadata": {},
   "outputs": [],
   "source": [
    "df.ip.nunique()"
   ]
  },
  {
   "cell_type": "markdown",
   "id": "29bf7c5f-6161-4908-b8b1-5686db295a3c",
   "metadata": {},
   "source": [
    "    This we have over 5500 unique ip addessess, "
   ]
  },
  {
   "cell_type": "code",
   "execution_count": null,
   "id": "3bf0a9b6-f6dc-4b5e-98aa-b9499e9790cf",
   "metadata": {},
   "outputs": [],
   "source": [
    "# lets check unique values\n",
    "for cols in df:\n",
    "    print(f'{cols} unique values:')\n",
    "    print(df[cols].nunique())\n",
    "    print('====================')\n",
    "    "
   ]
  },
  {
   "cell_type": "code",
   "execution_count": null,
   "id": "cb81e57f-6664-4911-8aae-813522b24a38",
   "metadata": {},
   "outputs": [],
   "source": [
    "ip_df = df[['ip']]"
   ]
  },
  {
   "cell_type": "code",
   "execution_count": null,
   "id": "ca6fb561-e9b9-46a0-be62-0e691b796bc8",
   "metadata": {},
   "outputs": [],
   "source": [
    "ip_df['number_one'] = df.number"
   ]
  },
  {
   "cell_type": "code",
   "execution_count": null,
   "id": "20ca78ca-2a6d-45e0-94b6-2d2654c1b92f",
   "metadata": {},
   "outputs": [],
   "source": [
    "ip_df = pd.DataFrame(ip_df.ip.value_counts())"
   ]
  },
  {
   "cell_type": "code",
   "execution_count": null,
   "id": "c5e7b931-bca9-4255-aa7c-0d48d84016a3",
   "metadata": {},
   "outputs": [],
   "source": [
    "ip_df.sort_values"
   ]
  },
  {
   "cell_type": "code",
   "execution_count": null,
   "id": "f1091600-9bda-4072-8585-1bb72bda1636",
   "metadata": {},
   "outputs": [],
   "source": [
    "df.head()"
   ]
  },
  {
   "cell_type": "code",
   "execution_count": null,
   "id": "28b2962f-3761-46bb-973a-18ee99daf52e",
   "metadata": {},
   "outputs": [],
   "source": [
    "subset = df[['ip','number', 'number_two', 'web_link' ]]"
   ]
  },
  {
   "cell_type": "code",
   "execution_count": null,
   "id": "ee11034e-42aa-4c61-ac71-acd3d77f6c9c",
   "metadata": {},
   "outputs": [],
   "source": [
    "df.dtypes"
   ]
  },
  {
   "cell_type": "code",
   "execution_count": null,
   "id": "9ed92ad7-3477-4906-be11-82e7cebfee8d",
   "metadata": {},
   "outputs": [],
   "source": [
    "subset[subset['ip'] == '97.105.19.61']"
   ]
  },
  {
   "cell_type": "code",
   "execution_count": null,
   "id": "cd4db263-abc2-46cc-bb1a-c83fe2e44805",
   "metadata": {},
   "outputs": [],
   "source": [
    "df.info()"
   ]
  },
  {
   "cell_type": "code",
   "execution_count": null,
   "id": "140fbab6-d6d2-4192-b1da-c76d043a4c81",
   "metadata": {},
   "outputs": [],
   "source": [
    "df.describe()"
   ]
  },
  {
   "cell_type": "code",
   "execution_count": null,
   "id": "1dbf6e37-6ca9-4bd5-896d-f03f6436297d",
   "metadata": {},
   "outputs": [],
   "source": [
    "# here im checking to see if the numbers are the number of visits \n",
    "subset[subset['web_link'] == '/' ]"
   ]
  },
  {
   "cell_type": "code",
   "execution_count": 7,
   "id": "b9441c8c-3350-4b2b-8966-d70b9a0cdf53",
   "metadata": {},
   "outputs": [
    {
     "data": {
      "text/html": [
       "<div>\n",
       "<style scoped>\n",
       "    .dataframe tbody tr th:only-of-type {\n",
       "        vertical-align: middle;\n",
       "    }\n",
       "\n",
       "    .dataframe tbody tr th {\n",
       "        vertical-align: top;\n",
       "    }\n",
       "\n",
       "    .dataframe thead th {\n",
       "        text-align: right;\n",
       "    }\n",
       "</style>\n",
       "<table border=\"1\" class=\"dataframe\">\n",
       "  <thead>\n",
       "    <tr style=\"text-align: right;\">\n",
       "      <th></th>\n",
       "      <th>path</th>\n",
       "      <th>user_id</th>\n",
       "      <th>cohort_id</th>\n",
       "      <th>ip</th>\n",
       "      <th>day</th>\n",
       "    </tr>\n",
       "    <tr>\n",
       "      <th>timestamp</th>\n",
       "      <th></th>\n",
       "      <th></th>\n",
       "      <th></th>\n",
       "      <th></th>\n",
       "      <th></th>\n",
       "    </tr>\n",
       "  </thead>\n",
       "  <tbody>\n",
       "    <tr>\n",
       "      <th>2018-01-26 09:55:03</th>\n",
       "      <td>/</td>\n",
       "      <td>1</td>\n",
       "      <td>8.0</td>\n",
       "      <td>97.105.19.61</td>\n",
       "      <td>Friday</td>\n",
       "    </tr>\n",
       "    <tr>\n",
       "      <th>2018-01-26 09:56:02</th>\n",
       "      <td>java-ii</td>\n",
       "      <td>1</td>\n",
       "      <td>8.0</td>\n",
       "      <td>97.105.19.61</td>\n",
       "      <td>Friday</td>\n",
       "    </tr>\n",
       "    <tr>\n",
       "      <th>2018-01-26 09:56:05</th>\n",
       "      <td>java-ii/object-oriented-programming</td>\n",
       "      <td>1</td>\n",
       "      <td>8.0</td>\n",
       "      <td>97.105.19.61</td>\n",
       "      <td>Friday</td>\n",
       "    </tr>\n",
       "    <tr>\n",
       "      <th>2018-01-26 09:56:06</th>\n",
       "      <td>slides/object_oriented_programming</td>\n",
       "      <td>1</td>\n",
       "      <td>8.0</td>\n",
       "      <td>97.105.19.61</td>\n",
       "      <td>Friday</td>\n",
       "    </tr>\n",
       "    <tr>\n",
       "      <th>2018-01-26 09:56:24</th>\n",
       "      <td>javascript-i/conditionals</td>\n",
       "      <td>2</td>\n",
       "      <td>22.0</td>\n",
       "      <td>97.105.19.61</td>\n",
       "      <td>Friday</td>\n",
       "    </tr>\n",
       "    <tr>\n",
       "      <th>...</th>\n",
       "      <td>...</td>\n",
       "      <td>...</td>\n",
       "      <td>...</td>\n",
       "      <td>...</td>\n",
       "      <td>...</td>\n",
       "    </tr>\n",
       "    <tr>\n",
       "      <th>2021-04-21 16:41:51</th>\n",
       "      <td>jquery/personal-site</td>\n",
       "      <td>64</td>\n",
       "      <td>28.0</td>\n",
       "      <td>71.150.217.33</td>\n",
       "      <td>Wednesday</td>\n",
       "    </tr>\n",
       "    <tr>\n",
       "      <th>2021-04-21 16:42:02</th>\n",
       "      <td>jquery/mapbox-api</td>\n",
       "      <td>64</td>\n",
       "      <td>28.0</td>\n",
       "      <td>71.150.217.33</td>\n",
       "      <td>Wednesday</td>\n",
       "    </tr>\n",
       "    <tr>\n",
       "      <th>2021-04-21 16:42:09</th>\n",
       "      <td>jquery/ajax/weather-map</td>\n",
       "      <td>64</td>\n",
       "      <td>28.0</td>\n",
       "      <td>71.150.217.33</td>\n",
       "      <td>Wednesday</td>\n",
       "    </tr>\n",
       "    <tr>\n",
       "      <th>2021-04-21 16:44:37</th>\n",
       "      <td>anomaly-detection/discrete-probabilistic-methods</td>\n",
       "      <td>744</td>\n",
       "      <td>28.0</td>\n",
       "      <td>24.160.137.86</td>\n",
       "      <td>Wednesday</td>\n",
       "    </tr>\n",
       "    <tr>\n",
       "      <th>2021-04-21 16:44:39</th>\n",
       "      <td>jquery/mapbox-api</td>\n",
       "      <td>64</td>\n",
       "      <td>28.0</td>\n",
       "      <td>71.150.217.33</td>\n",
       "      <td>Wednesday</td>\n",
       "    </tr>\n",
       "  </tbody>\n",
       "</table>\n",
       "<p>900223 rows × 5 columns</p>\n",
       "</div>"
      ],
      "text/plain": [
       "                                                                 path   \n",
       "timestamp                                                               \n",
       "2018-01-26 09:55:03                                                 /  \\\n",
       "2018-01-26 09:56:02                                           java-ii   \n",
       "2018-01-26 09:56:05               java-ii/object-oriented-programming   \n",
       "2018-01-26 09:56:06                slides/object_oriented_programming   \n",
       "2018-01-26 09:56:24                         javascript-i/conditionals   \n",
       "...                                                               ...   \n",
       "2021-04-21 16:41:51                              jquery/personal-site   \n",
       "2021-04-21 16:42:02                                 jquery/mapbox-api   \n",
       "2021-04-21 16:42:09                           jquery/ajax/weather-map   \n",
       "2021-04-21 16:44:37  anomaly-detection/discrete-probabilistic-methods   \n",
       "2021-04-21 16:44:39                                 jquery/mapbox-api   \n",
       "\n",
       "                     user_id  cohort_id             ip        day  \n",
       "timestamp                                                          \n",
       "2018-01-26 09:55:03        1        8.0   97.105.19.61     Friday  \n",
       "2018-01-26 09:56:02        1        8.0   97.105.19.61     Friday  \n",
       "2018-01-26 09:56:05        1        8.0   97.105.19.61     Friday  \n",
       "2018-01-26 09:56:06        1        8.0   97.105.19.61     Friday  \n",
       "2018-01-26 09:56:24        2       22.0   97.105.19.61     Friday  \n",
       "...                      ...        ...            ...        ...  \n",
       "2021-04-21 16:41:51       64       28.0  71.150.217.33  Wednesday  \n",
       "2021-04-21 16:42:02       64       28.0  71.150.217.33  Wednesday  \n",
       "2021-04-21 16:42:09       64       28.0  71.150.217.33  Wednesday  \n",
       "2021-04-21 16:44:37      744       28.0  24.160.137.86  Wednesday  \n",
       "2021-04-21 16:44:39       64       28.0  71.150.217.33  Wednesday  \n",
       "\n",
       "[900223 rows x 5 columns]"
      ]
     },
     "execution_count": 7,
     "metadata": {},
     "output_type": "execute_result"
    }
   ],
   "source": [
    "df"
   ]
  },
  {
   "cell_type": "code",
   "execution_count": 22,
   "id": "47285770-7b62-4fd4-b051-e951d5b5ac23",
   "metadata": {},
   "outputs": [],
   "source": [
    "# I want to engineer a fearture that will count the number of times path comes up and document.\n",
    "test = {}\n",
    "test['path_count'] = df['path'].value_counts()\n",
    "path_count_df = pd.DataFrame(test)"
   ]
  },
  {
   "cell_type": "code",
   "execution_count": 28,
   "id": "da1a433c-71d1-456c-a878-1b8840f6e24d",
   "metadata": {},
   "outputs": [],
   "source": [
    "path_count_df = pd.DataFrame(test)"
   ]
  }
 ],
 "metadata": {
  "kernelspec": {
   "display_name": "Python 3 (ipykernel)",
   "language": "python",
   "name": "python3"
  },
  "language_info": {
   "codemirror_mode": {
    "name": "ipython",
    "version": 3
   },
   "file_extension": ".py",
   "mimetype": "text/x-python",
   "name": "python",
   "nbconvert_exporter": "python",
   "pygments_lexer": "ipython3",
   "version": "3.10.9"
  }
 },
 "nbformat": 4,
 "nbformat_minor": 5
}
