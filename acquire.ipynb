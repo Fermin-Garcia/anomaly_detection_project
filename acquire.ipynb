{
 "cells": [
  {
   "cell_type": "markdown",
   "id": "24b73347-d4c5-498a-949e-208e7468a02e",
   "metadata": {},
   "source": [
    "## To begin i will assess the raw data and get a feel for where my data is on inital import. "
   ]
  },
  {
   "cell_type": "code",
   "execution_count": 6,
   "id": "4cee98c7-ab1e-4ecd-92ae-a8c3a899fad4",
   "metadata": {},
   "outputs": [],
   "source": [
    "#import pandas to read txt files \n",
    "import pandas as pd\n",
    "df = pd.read_csv('anonymized-curriculum-access.txt', sep= ' ', names=['date', 'time', 'web_link', 'number', 'number_two', 'ip' ])"
   ]
  },
  {
   "cell_type": "code",
   "execution_count": 13,
   "id": "85576ce3-418c-4ec1-afe7-ed34aaf4c903",
   "metadata": {},
   "outputs": [],
   "source": [
    "df['timestamp'] = df['date'] + ' '+ df['time']\n",
    "df.drop(columns=['date', 'time'], inplace= True)"
   ]
  },
  {
   "cell_type": "code",
   "execution_count": 16,
   "id": "0c8659db-bb66-4c9e-9535-7070bb37024f",
   "metadata": {},
   "outputs": [
    {
     "data": {
      "text/plain": [
       "Index(['web_link', 'number', 'number_two', 'ip', 'timestamp'], dtype='object')"
      ]
     },
     "execution_count": 16,
     "metadata": {},
     "output_type": "execute_result"
    }
   ],
   "source": [
    "df.columns"
   ]
  },
  {
   "cell_type": "code",
   "execution_count": 17,
   "id": "9c3c8469-0b8f-42be-bc32-4b0dc9c3ebdd",
   "metadata": {},
   "outputs": [],
   "source": [
    "new_order = ['ip', 'number', 'number_two',  'timestamp', 'web_link']\n",
    "\n",
    "# use the reindex method to reorder the columns\n",
    "df = df.reindex(columns=new_order)\n"
   ]
  },
  {
   "cell_type": "code",
   "execution_count": 19,
   "id": "6a587113-a841-4c67-b8b2-d1bc950d6cbf",
   "metadata": {},
   "outputs": [
    {
     "data": {
      "text/html": [
       "<div>\n",
       "<style scoped>\n",
       "    .dataframe tbody tr th:only-of-type {\n",
       "        vertical-align: middle;\n",
       "    }\n",
       "\n",
       "    .dataframe tbody tr th {\n",
       "        vertical-align: top;\n",
       "    }\n",
       "\n",
       "    .dataframe thead th {\n",
       "        text-align: right;\n",
       "    }\n",
       "</style>\n",
       "<table border=\"1\" class=\"dataframe\">\n",
       "  <thead>\n",
       "    <tr style=\"text-align: right;\">\n",
       "      <th></th>\n",
       "      <th>ip</th>\n",
       "      <th>number</th>\n",
       "      <th>number_two</th>\n",
       "      <th>web_link</th>\n",
       "    </tr>\n",
       "    <tr>\n",
       "      <th>timestamp</th>\n",
       "      <th></th>\n",
       "      <th></th>\n",
       "      <th></th>\n",
       "      <th></th>\n",
       "    </tr>\n",
       "  </thead>\n",
       "  <tbody>\n",
       "    <tr>\n",
       "      <th>2018-01-26 09:55:03</th>\n",
       "      <td>97.105.19.61</td>\n",
       "      <td>1</td>\n",
       "      <td>8.0</td>\n",
       "      <td>/</td>\n",
       "    </tr>\n",
       "    <tr>\n",
       "      <th>2018-01-26 09:56:02</th>\n",
       "      <td>97.105.19.61</td>\n",
       "      <td>1</td>\n",
       "      <td>8.0</td>\n",
       "      <td>java-ii</td>\n",
       "    </tr>\n",
       "    <tr>\n",
       "      <th>2018-01-26 09:56:05</th>\n",
       "      <td>97.105.19.61</td>\n",
       "      <td>1</td>\n",
       "      <td>8.0</td>\n",
       "      <td>java-ii/object-oriented-programming</td>\n",
       "    </tr>\n",
       "    <tr>\n",
       "      <th>2018-01-26 09:56:06</th>\n",
       "      <td>97.105.19.61</td>\n",
       "      <td>1</td>\n",
       "      <td>8.0</td>\n",
       "      <td>slides/object_oriented_programming</td>\n",
       "    </tr>\n",
       "    <tr>\n",
       "      <th>2018-01-26 09:56:24</th>\n",
       "      <td>97.105.19.61</td>\n",
       "      <td>2</td>\n",
       "      <td>22.0</td>\n",
       "      <td>javascript-i/conditionals</td>\n",
       "    </tr>\n",
       "    <tr>\n",
       "      <th>...</th>\n",
       "      <td>...</td>\n",
       "      <td>...</td>\n",
       "      <td>...</td>\n",
       "      <td>...</td>\n",
       "    </tr>\n",
       "    <tr>\n",
       "      <th>2021-04-21 16:41:51</th>\n",
       "      <td>71.150.217.33</td>\n",
       "      <td>64</td>\n",
       "      <td>28.0</td>\n",
       "      <td>jquery/personal-site</td>\n",
       "    </tr>\n",
       "    <tr>\n",
       "      <th>2021-04-21 16:42:02</th>\n",
       "      <td>71.150.217.33</td>\n",
       "      <td>64</td>\n",
       "      <td>28.0</td>\n",
       "      <td>jquery/mapbox-api</td>\n",
       "    </tr>\n",
       "    <tr>\n",
       "      <th>2021-04-21 16:42:09</th>\n",
       "      <td>71.150.217.33</td>\n",
       "      <td>64</td>\n",
       "      <td>28.0</td>\n",
       "      <td>jquery/ajax/weather-map</td>\n",
       "    </tr>\n",
       "    <tr>\n",
       "      <th>2021-04-21 16:44:37</th>\n",
       "      <td>24.160.137.86</td>\n",
       "      <td>744</td>\n",
       "      <td>28.0</td>\n",
       "      <td>anomaly-detection/discrete-probabilistic-methods</td>\n",
       "    </tr>\n",
       "    <tr>\n",
       "      <th>2021-04-21 16:44:39</th>\n",
       "      <td>71.150.217.33</td>\n",
       "      <td>64</td>\n",
       "      <td>28.0</td>\n",
       "      <td>jquery/mapbox-api</td>\n",
       "    </tr>\n",
       "  </tbody>\n",
       "</table>\n",
       "<p>900223 rows × 4 columns</p>\n",
       "</div>"
      ],
      "text/plain": [
       "                                ip  number  number_two   \n",
       "timestamp                                                \n",
       "2018-01-26 09:55:03   97.105.19.61       1         8.0  \\\n",
       "2018-01-26 09:56:02   97.105.19.61       1         8.0   \n",
       "2018-01-26 09:56:05   97.105.19.61       1         8.0   \n",
       "2018-01-26 09:56:06   97.105.19.61       1         8.0   \n",
       "2018-01-26 09:56:24   97.105.19.61       2        22.0   \n",
       "...                            ...     ...         ...   \n",
       "2021-04-21 16:41:51  71.150.217.33      64        28.0   \n",
       "2021-04-21 16:42:02  71.150.217.33      64        28.0   \n",
       "2021-04-21 16:42:09  71.150.217.33      64        28.0   \n",
       "2021-04-21 16:44:37  24.160.137.86     744        28.0   \n",
       "2021-04-21 16:44:39  71.150.217.33      64        28.0   \n",
       "\n",
       "                                                             web_link  \n",
       "timestamp                                                              \n",
       "2018-01-26 09:55:03                                                 /  \n",
       "2018-01-26 09:56:02                                           java-ii  \n",
       "2018-01-26 09:56:05               java-ii/object-oriented-programming  \n",
       "2018-01-26 09:56:06                slides/object_oriented_programming  \n",
       "2018-01-26 09:56:24                         javascript-i/conditionals  \n",
       "...                                                               ...  \n",
       "2021-04-21 16:41:51                              jquery/personal-site  \n",
       "2021-04-21 16:42:02                                 jquery/mapbox-api  \n",
       "2021-04-21 16:42:09                           jquery/ajax/weather-map  \n",
       "2021-04-21 16:44:37  anomaly-detection/discrete-probabilistic-methods  \n",
       "2021-04-21 16:44:39                                 jquery/mapbox-api  \n",
       "\n",
       "[900223 rows x 4 columns]"
      ]
     },
     "execution_count": 19,
     "metadata": {},
     "output_type": "execute_result"
    }
   ],
   "source": [
    "df.set_index('timestamp').sort_index()"
   ]
  },
  {
   "cell_type": "code",
   "execution_count": 53,
   "id": "b408c149-631e-4b8e-984f-2cd8e7c1ab89",
   "metadata": {},
   "outputs": [],
   "source": [
    "def acquire_data():\n",
    "    df = pd.read_csv('anonymized-curriculum-access.txt', sep= ' ', names=['date', 'time', 'web_link', 'number', 'number_two', 'ip' ])\n",
    "    df['timestamp'] = df['date'] + ' '+ df['time']\n",
    "    df.drop(columns=['date', 'time'], inplace= True)\n",
    "    ew_order = ['ip', 'number', 'number_two',  'timestamp', 'web_link']\n",
    "\n",
    "    # use the reindex method to reorder the columns\n",
    "    df = df.reindex(columns=new_order)\n",
    "    df['timestamp'] = pd.to_datetime(df['timestamp'])\n",
    "    df = df.set_index('timestamp').sort_index()\n",
    "    return df\n",
    "    "
   ]
  },
  {
   "cell_type": "code",
   "execution_count": 54,
   "id": "74a6e212-b089-4912-bf18-3649d55e052c",
   "metadata": {},
   "outputs": [],
   "source": [
    "df =  acquire_data()"
   ]
  },
  {
   "cell_type": "code",
   "execution_count": 25,
   "id": "bf5101ca-054b-4c45-b1ea-e26a17bbc06e",
   "metadata": {},
   "outputs": [],
   "source": [
    "# How many unique ip addresses are there?"
   ]
  },
  {
   "cell_type": "code",
   "execution_count": null,
   "id": "8ab07100-433b-45bb-9aa4-47512faee942",
   "metadata": {},
   "outputs": [
    {
     "data": {
      "text/plain": [
       "5531"
      ]
     },
     "execution_count": 24,
     "metadata": {},
     "output_type": "execute_result"
    }
   ],
   "source": [
    "df.ip.nunique()"
   ]
  },
  {
   "cell_type": "code",
   "execution_count": 56,
   "id": "80cbda70-7f39-4c5d-b319-1bcae3a07ac6",
   "metadata": {},
   "outputs": [
    {
     "data": {
      "text/plain": [
       "Index(['Friday', 'Friday', 'Friday', 'Friday', 'Friday', 'Friday', 'Friday',\n",
       "       'Friday', 'Friday', 'Friday',\n",
       "       ...\n",
       "       'Wednesday', 'Wednesday', 'Wednesday', 'Wednesday', 'Wednesday',\n",
       "       'Wednesday', 'Wednesday', 'Wednesday', 'Wednesday', 'Wednesday'],\n",
       "      dtype='object', name='timestamp', length=900223)"
      ]
     },
     "execution_count": 56,
     "metadata": {},
     "output_type": "execute_result"
    }
   ],
   "source": [
    "df.index.day_name()"
   ]
  }
 ],
 "metadata": {
  "kernelspec": {
   "display_name": "Python 3 (ipykernel)",
   "language": "python",
   "name": "python3"
  },
  "language_info": {
   "codemirror_mode": {
    "name": "ipython",
    "version": 3
   },
   "file_extension": ".py",
   "mimetype": "text/x-python",
   "name": "python",
   "nbconvert_exporter": "python",
   "pygments_lexer": "ipython3",
   "version": "3.10.9"
  }
 },
 "nbformat": 4,
 "nbformat_minor": 5
}
